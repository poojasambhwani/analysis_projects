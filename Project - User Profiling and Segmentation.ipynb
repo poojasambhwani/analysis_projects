{
 "cells": [
  {
   "cell_type": "markdown",
   "id": "9ebb22aa-4a76-412c-916a-e79ec16a9212",
   "metadata": {},
   "source": [
    "# User Profiling and Segmentation\n",
    "\n",
    "User profiling and segmentation are powerful techniques that enable us to understand the user base in-depth for an advertising campaign and tailor their strategies to meet diverse user needs."
   ]
  },
  {
   "cell_type": "code",
   "execution_count": null,
   "id": "2564a58e-3aa4-4e10-86a8-495b85bbc3ef",
   "metadata": {},
   "outputs": [],
   "source": [
    "import pandas as pd\n",
    "import numpy as np\n",
    "import matplotlib.pyplot as plt\n",
    "import seaborn as sns"
   ]
  },
  {
   "cell_type": "code",
   "execution_count": null,
   "id": "aec07473-45c1-44cb-b0cb-af0b1f59ca32",
   "metadata": {},
   "outputs": [],
   "source": [
    "df = pd.read_csv(\"C:\\\\Users\\\\Pooja Sambhwani\\\\Data Analytics and Statistics (Regex)\\\\Datasets\\\\user_profiles_for_ads.csv\")"
   ]
  },
  {
   "cell_type": "code",
   "execution_count": null,
   "id": "fd6254bb-b2d0-4280-ae93-dbc2d4641d8c",
   "metadata": {},
   "outputs": [],
   "source": [
    "df.head(5)"
   ]
  },
  {
   "cell_type": "code",
   "execution_count": null,
   "id": "847e5d0e-e229-4c7a-90c3-55a562aace3e",
   "metadata": {},
   "outputs": [],
   "source": [
    "# Let’s have a look at whether the data has any missing values or not:\n",
    "df.isnull().sum()"
   ]
  },
  {
   "cell_type": "markdown",
   "id": "1bf424d5-4bdd-45ec-ac6e-3a6748e98b2c",
   "metadata": {},
   "source": [
    "# Exploratory Data Analysis\n",
    "\n",
    "We’ll begin EDA by visualizing the distribution of the key demographic variables (age, gender, education level, and income level):"
   ]
  },
  {
   "cell_type": "code",
   "execution_count": null,
   "id": "42bf4387-49f1-493a-abad-f9c922e2e22b",
   "metadata": {},
   "outputs": [],
   "source": [
    "# setting the aesthetic style of the plots\n",
    "sns.set_style(\"whitegrid\")\n",
    "\n",
    "# creating subplots for the demographic distributions\n",
    "fig, axes = plt.subplots(2, 2, figsize=(18, 12))\n",
    "fig.suptitle('Distribution of Key Demographic Variables')\n",
    "\n",
    "# age distribution\n",
    "sns.countplot(ax=axes[0, 0], x='Age', data=df, hue='Age', palette='coolwarm', legend=False)\n",
    "axes[0, 0].set_title('Age Distribution')\n",
    "axes[0, 0].tick_params(axis='x', rotation=45)\n",
    "\n",
    "# gender distribution\n",
    "sns.countplot(ax=axes[0, 1], x='Gender', data=df, hue='Gender', palette='coolwarm', legend=False)\n",
    "axes[0, 1].set_title('Gender Distribution')\n",
    "\n",
    "# education level distribution\n",
    "sns.countplot(ax=axes[1, 0], x='Education Level', data=df, hue='Education Level', palette='coolwarm', legend=False)\n",
    "axes[1, 0].set_title('Education Level Distribution')\n",
    "axes[1, 0].tick_params(axis='x', rotation=45)\n",
    "\n",
    "# income level distribution\n",
    "sns.countplot(ax=axes[1, 1], x='Income Level', data=df, hue='Income Level', palette='coolwarm', legend=False)\n",
    "axes[1, 1].set_title('Income Level Distribution')\n",
    "axes[1, 1].tick_params(axis='x', rotation=45)\n",
    "\n",
    "plt.tight_layout(rect=[0, 0.03, 1, 0.95])\n",
    "plt.show()"
   ]
  },
  {
   "cell_type": "markdown",
   "id": "3c5b1f5b-16f2-47ff-9529-bf7495636f95",
   "metadata": {},
   "source": [
    "# We’ll now:\n",
    "\n",
    "- Examine device usage patterns to understand the primary means by which users access the platform.\n",
    "- This information is crucial for optimizing ad formats and delivery channels.\n",
    "- Additionally, we’ll explore users’ online behaviour, including their engagement with content and ads, and identify the most common interests among users."
   ]
  },
  {
   "cell_type": "code",
   "execution_count": null,
   "id": "34b16148-15ad-420d-992a-1649ed0c00e7",
   "metadata": {},
   "outputs": [],
   "source": [
    "# device usage distribution\n",
    "plt.figure(figsize=(10, 6))\n",
    "sns.countplot(x='Device Usage', data=df, hue='Device Usage', palette='coolwarm', legend=False)\n",
    "plt.title('Device Usage Distribution')\n",
    "plt.show()"
   ]
  },
  {
   "cell_type": "markdown",
   "id": "d09a7a96-ea90-4849-ad52-907825a2d5f4",
   "metadata": {},
   "source": [
    "# We’ll now:\n",
    "\n",
    "- Analyze the average time users spend online on weekdays versus weekends.\n",
    "- Investigate user engagement metrics, such as likes and reactions.\n",
    "- Delve into ad interaction metrics, including Click-Through Rates (CTR), Conversion Rates, and Ad Interaction Time.\n",
    "- It will help us understand the users’ activity patterns and their interaction with ads, which is crucial for effective ad targeting and optimization:"
   ]
  },
  {
   "cell_type": "code",
   "execution_count": null,
   "id": "eb705811-0162-4462-adec-4fe989bfd032",
   "metadata": {},
   "outputs": [],
   "source": [
    "# creating subplots for user online behavior and ad interaction metrics\n",
    "fig, axes = plt.subplots(3, 2, figsize=(18, 15))\n",
    "fig.suptitle('User Online Behavior and Ad Interaction Metrics')\n",
    "\n",
    "# time spent online on weekdays\n",
    "sns.histplot(ax=axes[0, 0], x='Time Spent Online (hrs/weekday)', data=df, bins=20, kde=True, color='skyblue')\n",
    "axes[0, 0].set_title('Time Spent Online on Weekdays')\n",
    "\n",
    "# time spent online on weekends\n",
    "sns.histplot(ax=axes[0, 1], x='Time Spent Online (hrs/weekend)', data=df, bins=20, kde=True, color='orange')\n",
    "axes[0, 1].set_title('Time Spent Online on Weekends')\n",
    "\n",
    "# likes and reactions\n",
    "sns.histplot(ax=axes[1, 0], x='Likes and Reactions', data=df, bins=20, kde=True, color='green')\n",
    "axes[1, 0].set_title('Likes and Reactions')\n",
    "\n",
    "# click-through rates\n",
    "sns.histplot(ax=axes[1, 1], x='Click-Through Rates (CTR)', data=df, bins=20, kde=True, color='red')\n",
    "axes[1, 1].set_title('Click-Through Rates (CTR)')\n",
    "\n",
    "# conversion rates\n",
    "sns.histplot(ax=axes[2, 0], x='Conversion Rates', data=df, bins=20, kde=True, color='purple')\n",
    "axes[2, 0].set_title('Conversion Rates')\n",
    "\n",
    "# ad interaction time\n",
    "sns.histplot(ax=axes[2, 1], x='Ad Interaction Time (sec)', data=df, bins=20, kde=True, color='brown')\n",
    "axes[2, 1].set_title('Ad Interaction Time (sec)')\n",
    "\n",
    "plt.tight_layout(rect=[0, 0.03, 1, 0.95])\n",
    "plt.show()"
   ]
  },
  {
   "cell_type": "markdown",
   "id": "428e7bec-b74c-4301-929b-2a1d9da9bf9b",
   "metadata": {},
   "source": [
    "# Now, let’s identify the most common interests among users, which is vital for segmenting the audience and tailoring ad campaigns to match user preferences:"
   ]
  },
  {
   "cell_type": "code",
   "execution_count": null,
   "id": "55b53c77-e76c-46d4-b255-8ddeec7cf459",
   "metadata": {},
   "outputs": [],
   "source": [
    "from collections import Counter\n",
    "\n",
    "# splitting the 'Top Interests' column and creating a list of all interests\n",
    "interests_list = df['Top Interests'].str.split(', ').sum()\n",
    "\n",
    "# counting the frequency of each interest\n",
    "interests_counter = Counter(interests_list)\n",
    "\n",
    "# converting the counter object to a DataFrame for easier plotting\n",
    "interests_df = pd.DataFrame(interests_counter.items(), columns=['Interest', 'Frequency']).sort_values(by='Frequency', ascending=False)\n",
    "\n",
    "# plotting the most common interests\n",
    "plt.figure(figsize=(12, 8))\n",
    "sns.barplot(x='Frequency', y='Interest', data=interests_df.head(10), hue='Interest', palette='coolwarm', legend=False)\n",
    "plt.title('Top 10 User Interests')\n",
    "plt.xlabel('Frequency')\n",
    "plt.ylabel('Interest')\n",
    "plt.show()"
   ]
  },
  {
   "cell_type": "markdown",
   "id": "51eebdaf-5709-4619-b9e7-2ec35e4a861c",
   "metadata": {},
   "source": [
    "## We can now segment users into distinct groups for targeted ad campaigns. Segmentation can be based on various criteria, such as:\n",
    "\n",
    "- Demographics: Age, Gender, Income Level, Education Level\n",
    "- Behavioural: Time Spent Online, Likes and Reactions, CTR, Conversion Rates\n",
    "- Interests: Aligning ad content with the top interests identified"
   ]
  },
  {
   "cell_type": "markdown",
   "id": "0d8fe1e1-73ff-476e-aeea-4a999473702f",
   "metadata": {},
   "source": [
    "# To implement user profiling and segmentation, we can apply clustering techniques like K-Means.\n",
    "\n",
    "- This approach enables the creation of more personalized and effective ad campaigns, ultimately enhancing user engagement and conversion rates.\n",
    "- Let’s start by selecting a subset of features that could be most indicative of user preferences and behaviour for segmentation and apply a clustering algorithm to create user segments:"
   ]
  },
  {
   "cell_type": "code",
   "execution_count": null,
   "id": "47ab2451-9906-4772-bf43-b1f4144ddbef",
   "metadata": {},
   "outputs": [],
   "source": [
    "from sklearn.preprocessing import StandardScaler, OneHotEncoder\n",
    "from sklearn.compose import ColumnTransformer\n",
    "from sklearn.pipeline import Pipeline\n",
    "from sklearn.cluster import KMeans\n",
    "\n",
    "# selecting features for clustering\n",
    "features = ['Age', 'Gender', 'Income Level', 'Time Spent Online (hrs/weekday)', 'Time Spent Online (hrs/weekend)', 'Likes and Reactions', 'Click-Through Rates (CTR)']\n",
    "\n",
    "# separating the features we want to consider for clustering\n",
    "X = df[features]\n",
    "\n",
    "# defining preprocessing for numerical and categorical features\n",
    "numeric_features = ['Time Spent Online (hrs/weekday)', 'Time Spent Online (hrs/weekend)', 'Likes and Reactions', 'Click-Through Rates (CTR)']\n",
    "numeric_transformer = StandardScaler()\n",
    "\n",
    "categorical_features = ['Age', 'Gender', 'Income Level']\n",
    "categorical_transformer = OneHotEncoder()\n",
    "\n",
    "# combining preprocessing steps\n",
    "preprocessor = ColumnTransformer(\n",
    "    transformers=[\n",
    "        ('num', numeric_transformer, numeric_features),\n",
    "        ('cat', categorical_transformer, categorical_features)\n",
    "    ])\n",
    "\n",
    "# creating a preprocessing and clustering pipeline\n",
    "pipeline = Pipeline(steps=[('preprocessor', preprocessor),\n",
    "                           ('cluster', KMeans(n_clusters=5, n_init='auto', random_state=42))])\n",
    "\n",
    "pipeline.fit(X)\n",
    "cluster_labels = pipeline.named_steps['cluster'].labels_\n",
    "df['Cluster'] = cluster_labels\n",
    "\n",
    "df.head(5)"
   ]
  },
  {
   "cell_type": "markdown",
   "id": "961b76d0-dc2a-4a67-8807-1df09fc32fac",
   "metadata": {},
   "source": [
    "# The clustering process has successfully segmented our users into five distinct groups (Clusters 0 to 4). \n",
    "\n",
    "Each cluster represents a unique combination of the features we selected, including age, gender, income level, online behaviour, and engagement metrics. These clusters can serve as the basis for creating targeted ad campaigns tailored to the preferences and behaviours of each segment."
   ]
  },
  {
   "cell_type": "markdown",
   "id": "8b26716c-b718-48a6-a8b2-d2f786cc9c00",
   "metadata": {},
   "source": [
    "# We’ll compute the mean values of the numerical features and the mode for categorical features within each cluster to get a sense of their defining characteristics:"
   ]
  },
  {
   "cell_type": "code",
   "execution_count": null,
   "id": "e56ea806-2958-4279-b1b6-c65feaaedd04",
   "metadata": {},
   "outputs": [],
   "source": [
    "# computing the mean values of numerical features for each cluster\n",
    "cluster_means = df.groupby('Cluster')[numeric_features].mean()\n",
    "\n",
    "for feature in categorical_features:\n",
    "    mode_series = df.groupby('Cluster')[feature].agg(lambda x: x.mode()[0])\n",
    "    cluster_means[feature] = mode_series\n",
    "\n",
    "cluster_means"
   ]
  },
  {
   "cell_type": "markdown",
   "id": "bb8623bd-a674-48f8-afa2-5e1b176f0dae",
   "metadata": {},
   "source": [
    "# Now, we’ll assign each cluster a name that reflects its most defining characteristics based on the mean values of numerical features and the most frequent categories for categorical features. Based on the cluster analysis, we can summarize and name the segments as follows:\n",
    "\n",
    "- Cluster 0 – “Weekend Warriors”: High weekend online activity, moderate likes and reactions, predominantly male, age group 25-34, income level 80k-100k.\n",
    "- Cluster 1 – “Engaged Professionals”: Balanced online activity, high likes and reactions, predominantly male, age group 25-34, high income (100k+).\n",
    "- Cluster 2 – “Low-Key Users”: Moderate to high weekend online activity, moderate likes and reactions, predominantly male, age group 25-34, income level 60k-80k, lower CTR.\n",
    "- Cluster 3 – “Active Explorers”: High overall online activity, lower likes and reactions, predominantly female, age group 25-34, income level 60k-80k.\n",
    "- Cluster 4 – “Budget Browsers”: Moderate online activity, lowest likes and reactions, predominantly female, age group 25-34, lowest income level (0-20k), lower CTR."
   ]
  },
  {
   "cell_type": "code",
   "execution_count": null,
   "id": "07b6c48e-8861-4bb6-85a4-56beff81f826",
   "metadata": {},
   "outputs": [],
   "source": [
    "# preparing data for radar chart\n",
    "features_to_plot = ['Time Spent Online (hrs/weekday)', 'Time Spent Online (hrs/weekend)', 'Likes and Reactions', 'Click-Through Rates (CTR)']\n",
    "labels = np.array(features_to_plot)\n",
    "\n",
    "# creating a dataframe for the radar chart\n",
    "radar_df = cluster_means[features_to_plot].reset_index()\n",
    "\n",
    "# normalizing the data\n",
    "radar_df_normalized = radar_df.copy()\n",
    "for feature in features_to_plot:\n",
    "    radar_df_normalized[feature] = (radar_df[feature] - radar_df[feature].min()) / (radar_df[feature].max() - radar_df[feature].min())\n",
    "\n",
    "# adding a full circle for plotting\n",
    "radar_df_normalized = pd.concat([radar_df_normalized, radar_df_normalized.iloc[[0]]], ignore_index=True)\n",
    "\n",
    "# assigning names to segments\n",
    "segment_names = ['Weekend Warriors', 'Engaged Professionals', 'Low-Key Users', 'Active Explorers', 'Budget Browsers']"
   ]
  },
  {
   "cell_type": "markdown",
   "id": "35dcd9b5-be9b-4eb5-bcb6-dabc0e9af760",
   "metadata": {},
   "source": [
    "# Now, let’s create a visualization that reflects these segments, using the cluster means for numerical features and highlighting the distinctive characteristics of each segment. \n",
    "\n",
    "We’ll create a radar chart that compares the mean values of selected features across the clusters, providing a visual representation of each segment’s profile:"
   ]
  },
  {
   "cell_type": "code",
   "execution_count": null,
   "id": "fa93ee9a-59f1-4f89-9d3e-655f6c6f0d6c",
   "metadata": {},
   "outputs": [],
   "source": [
    "import plotly.graph_objects as go\n",
    "fig = go.Figure()\n",
    "\n",
    "# loop through each segment to add to the radar chart\n",
    "for i, segment in enumerate(segment_names):\n",
    "    fig.add_trace(go.Scatterpolar(\n",
    "        r=radar_df_normalized.iloc[i][features_to_plot].values.tolist() + [radar_df_normalized.iloc[i][features_to_plot].values[0]],  # Add the first value at the end to close the radar chart\n",
    "        theta=labels.tolist() + [labels[0]],  # add the first label at the end to close the radar chart\n",
    "        fill='toself',\n",
    "        name=segment,\n",
    "        hoverinfo='text',\n",
    "        text=[f\"{label}: {value:.2f}\" for label, value in zip(features_to_plot, radar_df_normalized.iloc[i][features_to_plot])]+[f\"{labels[0]}: {radar_df_normalized.iloc[i][features_to_plot][0]:.2f}\"]  # Adding hover text for each feature\n",
    "    ))\n",
    "\n",
    "# update the layout to finalize the radar chart\n",
    "fig.update_layout(\n",
    "    polar=dict(\n",
    "        radialaxis=dict(\n",
    "            visible=True,\n",
    "            range=[0, 1]\n",
    "        )),\n",
    "    showlegend=True,\n",
    "    title='User Segments Profile'\n",
    ")\n",
    "\n",
    "fig.show()"
   ]
  },
  {
   "cell_type": "markdown",
   "id": "8e41fbb5-930f-485f-82d0-9ac0a3e223ba",
   "metadata": {},
   "source": [
    "# The chart above is useful for marketers to understand the behaviour of different user segments and tailor their advertising strategies accordingly.\n",
    "\n",
    "For example, ads targeting the “Weekend Warriors” could be scheduled for the weekend when they are most active, while “Engaged Professionals” might respond better to ads that are spread evenly throughout the week."
   ]
  },
  {
   "cell_type": "markdown",
   "id": "15fe086b-e1b9-4f3b-9ff2-302805dcce07",
   "metadata": {},
   "source": [
    "# Summary\n",
    "\n",
    "So, this is how you can perform User Profiling and Segmentation using Python. User profiling refers to creating detailed profiles that represent the behaviours and preferences of users, and segmentation divides the user base into distinct groups with common characteristics, making it easier to target specific segments with personalized marketing, products, or services."
   ]
  }
 ],
 "metadata": {
  "kernelspec": {
   "display_name": "Python 3 (ipykernel)",
   "language": "python",
   "name": "python3"
  },
  "language_info": {
   "codemirror_mode": {
    "name": "ipython",
    "version": 3
   },
   "file_extension": ".py",
   "mimetype": "text/x-python",
   "name": "python",
   "nbconvert_exporter": "python",
   "pygments_lexer": "ipython3",
   "version": "3.8.12"
  }
 },
 "nbformat": 4,
 "nbformat_minor": 5
}
